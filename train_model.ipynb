{
 "cells": [
  {
   "cell_type": "markdown",
   "metadata": {},
   "source": [
    "# Train Anomaly Detection Model"
   ]
  },
  {
   "cell_type": "code",
   "execution_count": null,
   "metadata": {},
   "outputs": [],
   "source": [
    "import pandas as pd\n",
    "from sklearn.ensemble import IsolationForest\n",
    "import joblib\n",
    "\n",
    "# Load dataset\n",
    "data = pd.read_csv('../dataset/NSL-KDD.csv')\n",
    "\n",
    "# Select features and preprocess\n",
    "# ... feature engineering code ...\n",
    "\n",
    "# Train model\n",
    "model = IsolationForest(contamination=0.01)\n",
    "model.fit(features)\n",
    "\n",
    "# Save model\n",
    "joblib.dump(model, '../backend/models/trained_model.pkl')
   ]
  }
 ],
 "metadata": {},
 "nbformat": 4,
 "nbformat_minor": 2
}
